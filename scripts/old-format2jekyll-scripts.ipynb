{
 "cells": [
  {
   "cell_type": "code",
   "execution_count": 18,
   "metadata": {
    "collapsed": false
   },
   "outputs": [
    {
     "data": {
      "text/plain": [
       "['hci1', 'hci2']"
      ]
     },
     "execution_count": 18,
     "metadata": {},
     "output_type": "execute_result"
    }
   ],
   "source": [
    "f = open(\"/Users/dorislee/Dropbox/terminal-notes/daily/2016-09-25.md\",'r')\n",
    "lines = f.readlines()\n",
    "tags=[]\n",
    "for l in lines:\n",
    "    phrase = l.split()\n",
    "    try:\n",
    "        if phrase[0][:4]=='2016':\n",
    "            tags.append(phrase[2])\n",
    "    except:\n",
    "        pass\n",
    "tags"
   ]
  },
  {
   "cell_type": "code",
   "execution_count": 22,
   "metadata": {
    "collapsed": false
   },
   "outputs": [],
   "source": [
    "tag=''\n",
    "for i in list(set(tags)):\n",
    "    tag+='-{}\\n'.format(i)"
   ]
  },
  {
   "cell_type": "code",
   "execution_count": 24,
   "metadata": {
    "collapsed": false
   },
   "outputs": [
    {
     "name": "stdout",
     "output_type": "stream",
     "text": [
      "-hci1\n",
      "-hci2\n",
      "\n"
     ]
    }
   ],
   "source": [
    "print tag"
   ]
  },
  {
   "cell_type": "code",
   "execution_count": 31,
   "metadata": {
    "collapsed": false
   },
   "outputs": [
    {
     "name": "stdout",
     "output_type": "stream",
     "text": [
      "/Users/dorislee/Dropbox/terminal-notes/daily\n"
     ]
    }
   ],
   "source": [
    "cd /Users/dorislee/Dropbox/terminal-notes/daily/"
   ]
  },
  {
   "cell_type": "code",
   "execution_count": 29,
   "metadata": {
    "collapsed": false
   },
   "outputs": [],
   "source": [
    "import glob"
   ]
  },
  {
   "cell_type": "code",
   "execution_count": 51,
   "metadata": {
    "collapsed": true
   },
   "outputs": [],
   "source": [
    "f = '2016_08_25.md'"
   ]
  },
  {
   "cell_type": "code",
   "execution_count": 52,
   "metadata": {
    "collapsed": false
   },
   "outputs": [],
   "source": [
    "f = f.replace('_','-').split('.')"
   ]
  },
  {
   "cell_type": "code",
   "execution_count": 53,
   "metadata": {
    "collapsed": false
   },
   "outputs": [],
   "source": [
    "f.insert(1,'-worklog.')"
   ]
  },
  {
   "cell_type": "code",
   "execution_count": 54,
   "metadata": {
    "collapsed": false
   },
   "outputs": [
    {
     "data": {
      "text/plain": [
       "'2016-08-25-worklog.md'"
      ]
     },
     "execution_count": 54,
     "metadata": {},
     "output_type": "execute_result"
    }
   ],
   "source": [
    "\"\".join(f)"
   ]
  },
  {
   "cell_type": "code",
   "execution_count": 56,
   "metadata": {
    "collapsed": true
   },
   "outputs": [],
   "source": [
    "import os"
   ]
  },
  {
   "cell_type": "code",
   "execution_count": 72,
   "metadata": {
    "collapsed": true
   },
   "outputs": [],
   "source": [
    "def get_tags(fname):\n",
    "    f = open(fname, 'r') \n",
    "    # get unique list of topics\n",
    "    lines = f.readlines()\n",
    "    tags=[]\n",
    "    for l in lines:\n",
    "        phrase = l.split()\n",
    "        try:\n",
    "            if phrase[0][:4]=='2016':\n",
    "                tags.append(phrase[2])\n",
    "        except:\n",
    "            pass\n",
    "    tag=''\n",
    "    for i in list(set(tags)):\n",
    "        tag+='- {}\\n'.format(i)\n",
    "    return tag"
   ]
  },
  {
   "cell_type": "code",
   "execution_count": null,
   "metadata": {
    "collapsed": true
   },
   "outputs": [],
   "source": [
    "#     f1 = f.replace('_','-').split('.')\n",
    "#     f1.insert(1,'-worklog.')\n",
    "#    os.system(\"mv {0} /Users/dorislee/Desktop/PersonalProj/web_diary/_posts/{1}\".format(f,\"\".join(f1))) "
   ]
  },
  {
   "cell_type": "code",
   "execution_count": 85,
   "metadata": {
    "collapsed": true
   },
   "outputs": [],
   "source": [
    "web_path = '/Users/dorislee/Desktop/PersonalProj/web_diary/_posts'"
   ]
  },
  {
   "cell_type": "code",
   "execution_count": 93,
   "metadata": {
    "collapsed": false
   },
   "outputs": [],
   "source": [
    "i=0\n",
    "for _f in glob.glob('*_*'):\n",
    "    f = open(_f, 'r') \n",
    "    today = _f.split('.')[0].replace('_','-')\n",
    "    f1 = open(\"{0}/{1}\".format(web_path,'{0}-worklog{1}.md'.format(today,i)), 'w') \n",
    "                # Insert Jekyll Header for Blogpost\n",
    "    tags=get_tags(_f)\n",
    "    f1.write('''---\n",
    "layout:  post\n",
    "title:  {0}-Worklog\n",
    "date:  {0}\n",
    "tags:\n",
    "{1}\n",
    "categories:\n",
    "- Work\n",
    "---\n",
    "'''.format(today,tags))\n",
    "    f1.writelines(f.readlines())\n",
    "    f.close()\n",
    "    f1.close()    \n",
    "    i+=1"
   ]
  },
  {
   "cell_type": "markdown",
   "metadata": {},
   "source": []
  },
  {
   "cell_type": "code",
   "execution_count": null,
   "metadata": {
    "collapsed": true
   },
   "outputs": [],
   "source": []
  }
 ],
 "metadata": {
  "kernelspec": {
   "display_name": "Python 2",
   "language": "python",
   "name": "python2"
  },
  "language_info": {
   "codemirror_mode": {
    "name": "ipython",
    "version": 2
   },
   "file_extension": ".py",
   "mimetype": "text/x-python",
   "name": "python",
   "nbconvert_exporter": "python",
   "pygments_lexer": "ipython2",
   "version": "2.7.10"
  }
 },
 "nbformat": 4,
 "nbformat_minor": 0
}
